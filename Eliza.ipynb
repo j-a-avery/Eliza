{
 "cells": [
  {
   "cell_type": "code",
   "execution_count": 1,
   "metadata": {},
   "outputs": [],
   "source": [
    "from eliza import main as run_eliza"
   ]
  },
  {
   "cell_type": "code",
   "execution_count": null,
   "metadata": {},
   "outputs": [
    {
     "name": "stdout",
     "output_type": "stream",
     "text": [
      "Loading rules for eliza.\n",
      "\n",
      "\n",
      "Hello! Please state your problem.\n",
      "Please say \"quit\" or \"goodbye\" when you are ready to conclude our session.\n",
      "> Hi!\n",
      "Hi there. Please state your problem.\n",
      "> It's raining today\n",
      "I am not sure I understand you fully.\n",
      "> Well, it's a beautiful day to sit inside, but it's an awful day to walk across campus.\n",
      "Please contine.\n",
      "> It's the kind of that just makes you want to curl up in front of the fireplace with a good book.\n",
      "Why do you think I want to curl up in front of the fireplace w you?th a good book\n",
      "> Well, anyone, not just you.\n",
      "Do you feel strongly about discussing such things?\n",
      "> Not really. I'm just trying to make conversation.\n",
      "I am not sure I understand you fully.\n",
      "> You don't seem to understand much of anything\n",
      "Why do you think I don't seem to understand much of anyth you?ng\n"
     ]
    }
   ],
   "source": [
    "run_eliza('eliza')"
   ]
  },
  {
   "cell_type": "code",
   "execution_count": 2,
   "metadata": {},
   "outputs": [
    {
     "name": "stdout",
     "output_type": "stream",
     "text": [
      "Loading rules for groot.\n",
      "If ya wanna talk to Groot, good luck.\n",
      "Ya can't understand a word he says.\n",
      "Be sure to tell 'im \"bye\" when you're done with 'im.\n",
      "> Hi!\n",
      "I am Groot.\n",
      "> I am James\n",
      "\u001b[1mI\u001b[22m am Groot.\n",
      "> My name is James\n",
      "I am \u001b[1mGroot\u001b[22m.\n",
      "> Fuck you, Groot!\n",
      "\u001b[1mI! AM! GROOOOOOOT!\u001b[22m\n",
      "> No, Groot! No!\n",
      "I... am... Groot....\n",
      "> Fine then, whatever.\n",
      "I am Groot.\n",
      "> Bye\n",
      "If ya wanna see whatcha said for some reason, just look at the transcript.\n",
      "A transcript of this sesson has been saved as groot_transcript_20190219-141338.txt.\n"
     ]
    }
   ],
   "source": [
    "run_eliza('groot')"
   ]
  },
  {
   "cell_type": "code",
   "execution_count": null,
   "metadata": {},
   "outputs": [],
   "source": []
  }
 ],
 "metadata": {
  "kernelspec": {
   "display_name": "Python 3",
   "language": "python",
   "name": "python3"
  },
  "language_info": {
   "codemirror_mode": {
    "name": "ipython",
    "version": 3
   },
   "file_extension": ".py",
   "mimetype": "text/x-python",
   "name": "python",
   "nbconvert_exporter": "python",
   "pygments_lexer": "ipython3",
   "version": "3.7.1"
  }
 },
 "nbformat": 4,
 "nbformat_minor": 2
}
